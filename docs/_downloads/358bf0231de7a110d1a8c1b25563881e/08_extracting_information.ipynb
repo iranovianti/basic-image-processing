{
  "cells": [
    {
      "cell_type": "markdown",
      "metadata": {},
      "source": [
        "\n# Extracting Information (Masking)\n\nArguably (because this is my personal opinion) the most common application of binary image\nis to extract information.\n\nIn this context, the binary image is also usually called a *binary mask*,\nbecause we use it to *mask* or filter the information. This is also called Image masking.\n\nTo demonstrate how this works, will use 8x8 grayscale and binary images.\n"
      ]
    },
    {
      "cell_type": "code",
      "execution_count": null,
      "metadata": {
        "collapsed": false
      },
      "outputs": [],
      "source": [
        "import numpy as np\nimport matplotlib.pyplot as plt\nimport matplotlib.patheffects as path_effects\n\nbinary_image = np.array([[0, 0, 0, 0, 0, 0, 0, 0],\n                         [0, 0, 0, 1, 1, 0, 0, 0],\n                         [0, 0, 1, 1, 1, 1, 0, 0],\n                         [0, 1, 1, 1, 1, 1, 1, 0],\n                         [0, 1, 1, 1, 1, 1, 1, 0],\n                         [0, 0, 1, 1, 1, 1, 0, 0],\n                         [0, 0, 0, 1, 1, 0, 0, 0],\n                         [0, 0, 0, 0, 0, 0, 0, 0]])\n\ngrayscale_image = np.array([[0. , 0. , 0. , 0. , 0. , 0. , 0. , 0. ],\n                            [0. , 0. , 0. , 0.1, 0.2, 0.1, 0. , 0. ],\n                            [0. , 0. , 0.1, 0.3, 0.4, 0.2, 0.1, 0. ],\n                            [0. , 0.1, 0.3, 0.7, 0.8, 0.6, 0.2, 0.1],\n                            [0. , 0.2, 0.4, 0.8, 1. , 0.7, 0.3, 0.1],\n                            [0. , 0.1, 0.2, 0.6, 0.7, 0.4, 0.2, 0. ],\n                            [0. , 0. , 0.1, 0.2, 0.3, 0.2, 0. , 0. ],\n                            [0. , 0. , 0. , 0.1, 0.1, 0. , 0. , 0. ]])\n\n# Function to display image with mask or pixel values\ndef display_image(ax, img, title, mask=None, show_value=False):\n    if mask is not None:\n        masked_img = np.where(mask, img, np.nan)\n    else:\n        masked_img = img\n\n    ax.imshow(masked_img, cmap='gray', vmin=img.min(), vmax=img.max())\n    ax.set_title(title)\n    ax.axis(\"off\")\n\n    if show_value:\n        for row in range(img.shape[0]):\n            for col in range(img.shape[1]):\n                if mask is None or mask[row, col]:\n                    text = ax.text(col, row, img[row, col], ha='center', va='center',\n                                   fontsize=12, color='black', fontweight='bold')\n                    text.set_path_effects([path_effects.Stroke(linewidth=2, foreground='white'),\n                                           path_effects.Normal()])\n\nfig, axes = plt.subplots(1, 3, figsize=(12, 4))\ndisplay_image(axes[0], grayscale_image, \"Grayscale Image\", show_value=True)\ndisplay_image(axes[1], binary_image, \"Binary mask\")\ndisplay_image(axes[2], grayscale_image, \"Masked Image\", mask=binary_image, show_value=True)\nplt.tight_layout()\nplt.show()"
      ]
    },
    {
      "cell_type": "markdown",
      "metadata": {},
      "source": [
        "So essentially, we do this when we only want the value of the location\nof the binary mask.\n\nIn python, using numpy this can simply be done by [boolean indexing](https://numpy.org/doc/2.2/user/basics.indexing.html#boolean-array-indexing).\n\n\n"
      ]
    },
    {
      "cell_type": "code",
      "execution_count": null,
      "metadata": {
        "collapsed": false
      },
      "outputs": [],
      "source": [
        "# Extract the value by indexing\nmasked_value = grayscale_image[binary_image.astype(bool)]\n\nprint(masked_value)"
      ]
    },
    {
      "cell_type": "markdown",
      "metadata": {},
      "source": [
        "## Practical example\n\nTo see this in action, we're gonna use images of protein translocation\ndescribed in [this paper](https://www.nature.com/articles/s41589-024-01654-w)\nfrom our lab.\n\nIn the paper in figure 2c, it shows the protein translocation from cytosol\nto nucleus. The images are from two channels, protein of interest (POI)\nand nucleus channel.\n\n\n"
      ]
    },
    {
      "cell_type": "code",
      "execution_count": null,
      "metadata": {
        "collapsed": false
      },
      "outputs": [],
      "source": [
        "from tifffile import imread\nfrom skimage.filters import threshold_otsu\n\nPOI_ch = imread(\"images/miRFP670nano_sample.tif\")\nnucleus_ch = imread(\"images/mOrange2_sample.tif\")\n\nprint(POI_ch.shape, nucleus_ch.shape)\n# We have 71 frames of 150\u00d7185 images"
      ]
    },
    {
      "cell_type": "markdown",
      "metadata": {},
      "source": [
        "Let's say we want to know how much POI is located in the nucleus at\neach time point.\n\nFirst, we can locate the nucleus by generating a binary mask from the\nnucleus channel. Then, we extract the fluorescence intensity of the POI\nusing this mask.\n\nTo demonstrate this, we can use the images from the first frame.\n\n\n"
      ]
    },
    {
      "cell_type": "code",
      "execution_count": null,
      "metadata": {
        "collapsed": false
      },
      "outputs": [],
      "source": [
        "# The first frame as an example\nnucleus_1 = nucleus_ch[0]\nPOI_1 = POI_ch[0]\n\n# Thresholding to get the mask\nth = threshold_otsu(nucleus_1)\nnucleus_mask = nucleus_1 > th\n\n# Extract the fluorescence intensity from both channels\nPOI_fl_1 = POI_1[nucleus_mask]\nnucleus_fl_1 = nucleus_1[nucleus_mask]\n\nfig, axes = plt.subplots(1, 4, figsize=(12, 3))\ndisplay_image(axes[0], nucleus_mask, \"Nucleus Mask\")\ndisplay_image(axes[1], POI_1, \"POI\")\ndisplay_image(axes[2], POI_1, \"POI in nucleus\", mask=nucleus_mask)\ndisplay_image(axes[3], nucleus_1, \"Nucleus fluorescence\", mask=nucleus_mask)\nplt.tight_layout()\nplt.show()\n\nprint(f\"average fluorescence intensity of POI in nucleus: {POI_fl_1.mean()}\")\nprint(f\"average fluorescence intensity of nucleus protein: {nucleus_fl_1.mean()}\")"
      ]
    },
    {
      "cell_type": "markdown",
      "metadata": {},
      "source": [
        "Let's put it together into one function so we can apply the process\n(thresholding to get the mask -> extract fluorescence intensity) into\nall the frames.\n\n\n"
      ]
    },
    {
      "cell_type": "code",
      "execution_count": null,
      "metadata": {
        "collapsed": false
      },
      "outputs": [],
      "source": [
        "def extract_fluorescence_intensity(image, mask_function):\n    num_frames = image.shape[0]\n    mean_intensity = []\n\n    for i in range(num_frames):\n        mask = mask_function(image[i])\n        masked_values = image[i][mask]\n        mean_intensity.append(masked_values.mean())\n\n    return mean_intensity\n\n# Function to get the mask by thresholding\ndef nucleus_mask_function(frame):\n    return frame > threshold_otsu(frame)\n\n# Apply function to all frames\nPOI_nucleus_intensities = extract_fluorescence_intensity(POI_ch, nucleus_mask_function)\nnucleus_intensities = extract_fluorescence_intensity(nucleus_ch, nucleus_mask_function)\n\n# Plotting the mean fluorescence intensity over time\n\nfig, ax = plt.subplots(figsize=(6, 4))\nax.plot(POI_nucleus_intensities, label=\"POI in Nucleus\", marker='o', c='red', mec='k')\nax.plot(nucleus_intensities, label=\"Nucleus Fluorescence\", marker='o', c='gray', mec='k')\nax.set_xlabel(\"Frame\")\nax.set_ylabel(\"Mean Fl. Intensity\")\nax.set_title(\"POI in nucleus over time\")\nax.legend()\nplt.show()"
      ]
    },
    {
      "cell_type": "markdown",
      "metadata": {},
      "source": [
        "Okay, so now we can see the translocation of POI to and from nucleus.\nBut how do we know that it's from cytosol?\n\nWell, we can get the mean fluorescence intensity from the cytosol and\nsee the correlation. But we don't have a cytosol channel.\n\nOne creative way to do that is by expanding the nucleus mask. Because\nwe know that the cytosol surrounds the nucleus.\n\n\n"
      ]
    },
    {
      "cell_type": "code",
      "execution_count": null,
      "metadata": {
        "collapsed": false
      },
      "outputs": [],
      "source": [
        "from skimage.morphology import binary_dilation, disk\n\n# Expand nucleus mask to define a surrounding region\nnucleus_dilate_1 = binary_dilation(nucleus_mask, disk(3))\nnucleus_dilate_2 = binary_dilation(nucleus_mask, disk(5))\n\n# Define cytosol region as the ring between two dilations\ncytosol_mask = nucleus_dilate_2 ^ nucleus_dilate_1  # Subtract (nucleus_dilate_2 - nucleus_dilate_1) also works in this case\n\nfig, axes = plt.subplots(1, 4, figsize=(12, 3))\ndisplay_image(axes[0], nucleus_mask, \"Nucleus Mask\")\ndisplay_image(axes[1], nucleus_dilate_1, \"Dilation 1 (A)\")\ndisplay_image(axes[2], nucleus_dilate_2, \"Dilation 2 (B)\")\ndisplay_image(axes[3], cytosol_mask, \"Around Nucleus (A ^ B)\")\nplt.tight_layout()\nplt.show()"
      ]
    },
    {
      "cell_type": "markdown",
      "metadata": {},
      "source": [
        "Neat, huh?!\nThis is actually an approach I followed from [this paper](https://www.nature.com/articles/s41586-024-07950-8).\n\nNow, let's see if this can be used in our case\n\n\n"
      ]
    },
    {
      "cell_type": "code",
      "execution_count": null,
      "metadata": {
        "collapsed": false
      },
      "outputs": [],
      "source": [
        "fig, axes = plt.subplots(1, 3, figsize=(12, 4))\ndisplay_image(axes[0], POI_1, \"POI\")\ndisplay_image(axes[1], POI_1, \"POI in nucleus\", mask=nucleus_mask)\ndisplay_image(axes[2], POI_1, \"POI around nucleus\", mask=cytosol_mask)\nplt.tight_layout()\nplt.show()"
      ]
    },
    {
      "cell_type": "markdown",
      "metadata": {},
      "source": [
        "The cytosol(ish) mask also includes a little area outside of the cell,\nbut overall, it looks pretty good!\n\nLet's apply this to all frames and compare it to the fluorescence intensity\nin the nucleus.\n\n\n"
      ]
    },
    {
      "cell_type": "code",
      "execution_count": null,
      "metadata": {
        "collapsed": false
      },
      "outputs": [],
      "source": [
        "# Function to generate cytosol mask\ndef cytosol_mask_function(frame):\n    nucleus_mask = nucleus_mask_function(frame)\n    nucleus_dilate_1 = binary_dilation(nucleus_mask, disk(3))\n    nucleus_dilate_2 = binary_dilation(nucleus_mask, disk(5))\n    return nucleus_dilate_2 ^ nucleus_dilate_1  # Cytosol mask\n\n# Apply function to all frames\nPOI_cytosol_intensities = extract_fluorescence_intensity(POI_ch, cytosol_mask_function)\ncytosol_intensities = extract_fluorescence_intensity(nucleus_ch, cytosol_mask_function)\n\n# Plotting the mean fluorescence intensity of POI in nucleus and cytosol over time\n\nfig, ax1 = plt.subplots(figsize=(6,4))\n\nax1.plot(POI_nucleus_intensities, label=\"POI in Nucleus\", marker='o', c='red', mec='k')\nax1.set_xlabel(\"Frame\")\nax1.set_ylabel(\"Mean Fl. Intensity (Nucleus)\")\nax1.tick_params(axis='y', labelcolor='red')\n\nax2 = ax1.twinx()\nax2.plot(POI_cytosol_intensities, label=\"POI in Cytosol\", marker='o', c='blue', mec='k')\nax2.set_ylabel(\"Mean Fl. Intensity (Cytosol)\")\nax2.tick_params(axis='y', labelcolor='blue')\n\nfig.legend(bbox_to_anchor=(1, 1), bbox_transform=ax1.transAxes)\nax1.set_title(\"POI Fl. Intensity Over Time\")\nplt.show()"
      ]
    },
    {
      "cell_type": "markdown",
      "metadata": {},
      "source": [
        "We can clearly see that as the intensity of POI in the nucleus increases,\nthe intensity in the cytosol decreases. Likewise, when the POI intensity\nin the nucleus decreases, it increases in the cytosol. This indicates\nthat POI translocates between the nucleus and cytosol.\n\n<div class=\"alert alert-info\"><h4>Note</h4><p>In the paper, the authors calculated the correlation between the two channels\n  (Pearson's correlation coefficient) to quantify the translocation, instead of\n  calculating the fluorescence intensity.\n  Why do you think that is?</p></div>\n\n\n"
      ]
    }
  ],
  "metadata": {
    "kernelspec": {
      "display_name": "Python 3",
      "language": "python",
      "name": "python3"
    },
    "language_info": {
      "codemirror_mode": {
        "name": "ipython",
        "version": 3
      },
      "file_extension": ".py",
      "mimetype": "text/x-python",
      "name": "python",
      "nbconvert_exporter": "python",
      "pygments_lexer": "ipython3",
      "version": "3.10.11"
    }
  },
  "nbformat": 4,
  "nbformat_minor": 0
}