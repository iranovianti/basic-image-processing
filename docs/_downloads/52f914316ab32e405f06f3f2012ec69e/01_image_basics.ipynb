{
  "cells": [
    {
      "cell_type": "markdown",
      "metadata": {},
      "source": [
        "\n# .. _image-basics:\nWhat is an image\n================\n\nAn image can be thought of as a grid of numbers, like a matrix. The grid consists\nof rows (representing the image's height) and columns (representing the width), where each value in the\nmatrix corresponds to a single pixel. The pixel value determines the brightness of that spot in the image:\n\n- A larger value means a brighter pixel.\n- A smaller value means a darker pixel.\n"
      ]
    },
    {
      "cell_type": "markdown",
      "metadata": {},
      "source": [
        "Pixel values of most types of images are often represented as 8-bit\nunsigned integers ranging from 0 to 255:\n\n- 0 corresponds to black (the darkest pixel).\n- 255 corresponds to white (the brightest pixel).\n\n<div class=\"alert alert-info\"><h4>Note</h4><p>Most scientific images, such as those from fluorescence microscopes,\n  use higher-bit integers and therefore capture a wider range of values.\n  For example, many fluorescence microscopes produce 16-bit images, which\n  can range from 0 to 65,535.</p></div>\n\n\nLet\u2019s consider an example of three 8 \u00d7 8 matrices, where each matrix\ncontains different pixel values and visualize them as images.\n\n\n"
      ]
    },
    {
      "cell_type": "code",
      "execution_count": null,
      "metadata": {
        "collapsed": false
      },
      "outputs": [],
      "source": [
        "import numpy as np\nimport matplotlib.pyplot as plt\n\n\nmatrix_1 = np.array([[  0,   0,   0,   0,   0,   0,   0,   0],\n                     [  0,   0,   0,  63,  63,   0,   0,   0],\n                     [  0,   0,  63, 127, 127,  63,   0,   0],\n                     [  0,  63, 127, 255, 255, 127,  63,   0],\n                     [  0,  63, 127, 255, 255, 127,  63,   0],\n                     [  0,   0,  63, 127, 127,  63,   0,   0],\n                     [  0,   0,   0,  63,  63,   0,   0,   0],\n                     [  0,   0,   0,   0,   0,   0,   0,   0]])\n\nmatrix_2 = np.array([[  0,   0,   0,   0,   0,   0,   0,   0],\n                     [  0,   0,   0,   0,  63,  63,   0,   0],\n                     [  0,   0,   0,  63, 127, 127,  63,   0],\n                     [  0,   0,  63, 127, 255, 255, 127,  63],\n                     [  0,   0,  63, 127, 255, 255, 127,  63],\n                     [  0,   0,   0,  63, 127, 127,  63,   0],\n                     [  0,   0,   0,   0,  63,  63,   0,   0],\n                     [  0,   0,   0,   0,   0,   0,   0,   0]])\n\nmatrix_3 = np.array([[  0,   0,   0,   0,   0,   0,   0,   0],\n                     [  0,   0,   0,   0,   0,   0,   0,   0],\n                     [  0,   0,   0,  63,  63,   0,   0,   0],\n                     [  0,   0,  63, 127, 127,  63,   0,   0],\n                     [  0,  63, 127, 255, 255, 127,  63,   0],\n                     [  0,  63, 127, 255, 255, 127,  63,   0],\n                     [  0,   0,  63, 127, 127,  63,   0,   0],\n                     [  0,   0,   0,  63,  63,   0,   0,   0]])\n\n\nplt.figure(figsize=(11,3))\n\nplt.subplot(131)\nplt.title('matrix 1')\nplt.imshow(matrix_1, cmap='gray')\n\nplt.subplot(132)\nplt.title('matrix 2')\nplt.imshow(matrix_2, cmap='gray')\n\nplt.subplot(133)\nplt.title('matrix 3')\nplt.imshow(matrix_3, cmap='gray')\n\nplt.show()"
      ]
    },
    {
      "cell_type": "markdown",
      "metadata": {},
      "source": [
        "When visualized, these matrices appear as grayscale images and the\npixels with higher values appear brighter.\n\n\n"
      ]
    },
    {
      "cell_type": "markdown",
      "metadata": {},
      "source": [
        "# Colored Images\nWhile grayscale images are represented by a 2D matrix (height \u00d7 width),\ncolored images are represented by a 3D matrix with the size (height \u00d7 width \u00d7 3).\n\nHere, the 3 channels represent the three primary colors: Red (R), Green (G),\nBlue (B).\nEach pixel in an RGB image has three values (one for each channel).\n\nFor example, we can stack the three 8 \u00d7 8 matrices, matrix 1 for Red, 2 for Green,\nand 3 for Blue, results in an 8 \u00d7 8 \u00d7 3 matrix and visualize it as a colored image.\n\n\n"
      ]
    },
    {
      "cell_type": "code",
      "execution_count": null,
      "metadata": {
        "collapsed": false
      },
      "outputs": [],
      "source": [
        "combined_matrices = np.dstack([matrix_1,\n                               matrix_2,\n                               matrix_3])\n\nprint(combined_matrices.shape)\n\nplt.figure()\nplt.title('combined matrices')\nplt.imshow(combined_matrices)\nplt.show()"
      ]
    },
    {
      "cell_type": "markdown",
      "metadata": {},
      "source": [
        "As we can see:\n\n- When a pixel has R, G, and B values of 255 (e.g., at position (4,4)), the pixel appears white.\n- If the Red channel value is high while the others are low, the color becomes redder.\n- Similarly, higher values in the Blue or Green channels make the pixel appear bluer or greener, respectively.\n\nBy adjusting the values in these three channels, we can represent any\ncolor in an image.\n"
      ]
    }
  ],
  "metadata": {
    "kernelspec": {
      "display_name": "Python 3",
      "language": "python",
      "name": "python3"
    },
    "language_info": {
      "codemirror_mode": {
        "name": "ipython",
        "version": 3
      },
      "file_extension": ".py",
      "mimetype": "text/x-python",
      "name": "python",
      "nbconvert_exporter": "python",
      "pygments_lexer": "ipython3",
      "version": "3.10.11"
    }
  },
  "nbformat": 4,
  "nbformat_minor": 0
}