{
  "cells": [
    {
      "cell_type": "markdown",
      "metadata": {},
      "source": [
        "\n# Brightness and Contrast\n\nPreviously, in `single-channel-image`, we learned that we can assign different values to different colors using\nvarious color gradients.\n\nWe can also change the **range of values** represented by a color gradient. In grayscale,\nadjusting this range affects the **brightness and contrast** of an image.\n\nTo show how this works in practice, we'll use *blobs.jpeg* as our example image.\n"
      ]
    },
    {
      "cell_type": "code",
      "execution_count": null,
      "metadata": {
        "collapsed": false
      },
      "outputs": [],
      "source": [
        "from PIL import Image\nimport numpy as np\nimport matplotlib.pyplot as plt\n\nblobs = Image.open(\"images/blobs.jpeg\")\nblobs = np.array(blobs)"
      ]
    },
    {
      "cell_type": "markdown",
      "metadata": {},
      "source": [
        "Before we start, let's create a simple function that displays an image\nand its histogram side by side. We can also specify a minimum and\nmaximum value (``vmin`` and ``vmax``) for displaying the image.\n\nSince we use grayscale as the color gradient, pixels with ``vmin``\nvalue will be displayed as black, and pixels with ``vmax`` value\nwill be displayed as white.\n\nIn addition, red and green lines will be drawn on the histogram to indicate\n``vmin`` and ``vmax``, respectively.\n\n\n"
      ]
    },
    {
      "cell_type": "code",
      "execution_count": null,
      "metadata": {
        "collapsed": false
      },
      "outputs": [],
      "source": [
        "def show_image_histogram(image, title='', vmin=None, vmax=None):\n    plt.figure(figsize=(9,3.8))\n\n    plt.suptitle(title)\n\n    plt.subplot(121)\n    plt.title('Image')\n    if vmin is None:\n        vmin = image.min()\n    if vmax is None:\n        vmax = image.max()\n    plt.imshow(image, cmap='gray', vmin=vmin, vmax=vmax)\n    plt.colorbar()\n\n    plt.subplot(122, box_aspect=1.2)\n    plt.title('Histogram')\n    plt.hist(image.flatten())\n    plt.axvline(vmin, color='red')\n    plt.axvline(vmax, color='green')\n    plt.xlim()\n    plt.xlabel('pixel value')\n    plt.ylabel('count')\n\n    plt.show()"
      ]
    },
    {
      "cell_type": "markdown",
      "metadata": {},
      "source": [
        "By default, ``plt.imshow``, automatically sets the darkest\ncolor (black) to the minimum pixel value and the brightest color (white)\nto the maximum pixel value in the image.\n\nLet's look at the distribution of these pixel values using the ``show_image_histogram``\nfunction:\n\n\n"
      ]
    },
    {
      "cell_type": "code",
      "execution_count": null,
      "metadata": {
        "collapsed": false
      },
      "outputs": [],
      "source": [
        "show_image_histogram(blobs, title=\"Default display\")"
      ]
    },
    {
      "cell_type": "markdown",
      "metadata": {},
      "source": [
        "## Brightness\nIn a grayscale image, brighter areas correspond to the upper end of\nthe grayscale gradient. The more pixels mapped to this upper end, the brighter\nthe image appears.\n\nOne way to adjust brightness is to **shift the display range (scale)**.\nWe can do this by changing ``vmin`` and ``vmax``.\n\n\n"
      ]
    },
    {
      "cell_type": "code",
      "execution_count": null,
      "metadata": {
        "collapsed": false
      },
      "outputs": [],
      "source": [
        "shift = 100\n\nshow_image_histogram(blobs, title=f\"Shift the scale {shift} to the right\", vmin=blobs.min()+shift, vmax=blobs.max()+shift)\nshow_image_histogram(blobs, title=f\"Shift the scale {shift} to the left\", vmin=blobs.min()-shift, vmax=blobs.max()-shift)"
      ]
    },
    {
      "cell_type": "markdown",
      "metadata": {},
      "source": [
        "<div class=\"alert alert-info\"><h4>Note</h4><p>Note that if a pixel's value falls outside the specified display range,\n  it will appear as the color at the closest end of the gradient.\n\n  Higher-than-maximum values are shown as white, and lower-than-minimum\n  values are shown as black.</p></div>\n\n\n"
      ]
    },
    {
      "cell_type": "markdown",
      "metadata": {},
      "source": [
        "- **Shifting the scale to the right** places fewer pixels at the upper end, **decreasing brightness**.\n- **Shifting the scale to the left** places more pixels at the upper end, **increasing brightness**.\n\n\n"
      ]
    },
    {
      "cell_type": "markdown",
      "metadata": {},
      "source": [
        "## Contrast\nWhile brightness relates to how many pixels lie at the upper end of\nthe scale, you can think of contrast as how spread out the pixel values\nare across the scale.\n\nFor example, the blobs image we've been using already has high contrast.\nWe can see this in the histogram: pixel values are well-spread out, and\nthere are distinct peaks at opposite ends of the scale. This indicates\na large difference between dark and bright areas, resulting in high contrast.\n\nOne way to change the contrast is by adjusting the grayscale display range.\n\n\n"
      ]
    },
    {
      "cell_type": "code",
      "execution_count": null,
      "metadata": {
        "collapsed": false
      },
      "outputs": [],
      "source": [
        "show_image_histogram(blobs, title=f\"Narrow range: 100 \u2013 150 (Higher contrast)\", vmin=100, vmax=150)\nshow_image_histogram(blobs, title=f\"Wide Range: -100 \u2013 350 (Low contrast)\", vmin=-100, vmax=350)"
      ]
    },
    {
      "cell_type": "markdown",
      "metadata": {},
      "source": [
        "- By **narrowing the display range** to 100\u2013150, the pixels are forced toward opposite ends (black and white), making the image to have **more contrast**.\n- By **widening the display range** to -100\u2013350, more pixels cluster in the middle of the grayscale. Because there's less difference between the lightest and darkest displayed values, the image appears to have **less contrast**.\n\n\n"
      ]
    },
    {
      "cell_type": "markdown",
      "metadata": {},
      "source": [
        "## Practical Example\nHere we have two fluorescence images showing mitochondria under two\ndifferent conditions:\n\n\n"
      ]
    },
    {
      "cell_type": "code",
      "execution_count": null,
      "metadata": {
        "collapsed": false
      },
      "outputs": [],
      "source": [
        "from tifffile import imread\n\nmito_1 = imread('images/mitochondria_1.tif')\nmito_2 = imread('images/mitochondria_2.tif')\n\nshow_image_histogram(mito_1, title=\"Condition 1 (Automatic display)\")\nshow_image_histogram(mito_2, title=\"Condition 2 (Automatic display)\")"
      ]
    },
    {
      "cell_type": "markdown",
      "metadata": {},
      "source": [
        "From the images above, both look similar. However, this is *misleading*.\nBecause their histograms show different intensity distributions.\n\nSince fluorescence intensity represents the detected fluorophore signal,\nthe mitochondria clearly don't contain the same amount of fluorophore,\neven though they may look similar in the above image representations.\n\nA more accurate way to compare them is to use the **same display range**\n(brightness and contrast) for both:\n\n\n"
      ]
    },
    {
      "cell_type": "code",
      "execution_count": null,
      "metadata": {
        "collapsed": false
      },
      "outputs": [],
      "source": [
        "# Determine a global min/max from both images\nmax_val = max(mito_1.max(), mito_2.max())\nmin_val = min(mito_1.min(), mito_2.min())\n\nshow_image_histogram(mito_1,title=f\"Condition 1 (Display range: {min_val}\u2013{max_val})\",\n    vmin=min_val, vmax=max_val)\nshow_image_histogram(mito_2, title=f\"Condition 2 (Display range: {min_val}\u2013{max_val})\",\n    vmin=min_val, vmax=max_val)"
      ]
    },
    {
      "cell_type": "markdown",
      "metadata": {},
      "source": [
        "By using a the same display range, you can see the difference between\nthe two conditions more clearly.\n\n\n"
      ]
    },
    {
      "cell_type": "markdown",
      "metadata": {},
      "source": [
        "## Summary\nBrightness and contrast (in this context) are simply how we set the\nscale or range of values represented by a grayscale gradient.\n\n\n"
      ]
    },
    {
      "cell_type": "markdown",
      "metadata": {},
      "source": [
        "## Important\n\n<div class=\"alert alert-danger\"><h4>Warning</h4><p>Changing the display range does not change the pixel values of\n    the image itself. However, when you save or copy the image after\n    adjusting the display, it may automatically rescale the pixel values,\n    because most image viewers expect a standard range of 0\u2013255 (for\n    8-bit) or 0\u201365,535 (for 16-bit).\n\n    This is also the case when using ImageJ.</p></div>\n\nTo rescale the pixel values of the image to a standard display range,\nwe can use the following steps:\n\n1. **Clip** the pixel values to a specified minimum (``minval``) and maximum (``maxval``).\n2. **Normalize** the clipped values to 0\u20131.\n3. **Scale** this range to 0\u2013255 (for 8-bit) or 0\u201365,535 (for 16-bit).\n\n\n"
      ]
    },
    {
      "cell_type": "code",
      "execution_count": null,
      "metadata": {
        "collapsed": false
      },
      "outputs": [],
      "source": [
        "def rescale(a, minval, maxval, image_type='8-bit'):\n    clipped = np.clip(a, minval, maxval)\n    normalized = (clipped - clipped.min()) / (max(clipped.max(), maxval) - min(clipped.min(), minval))\n    if image_type=='8-bit':\n        scaled = normalized * 255\n        return scaled.astype(np.uint8)\n    elif image_type=='16-bit': \n        scaled = normalized * 65535\n        return scaled.astype(np.uint16)"
      ]
    },
    {
      "cell_type": "markdown",
      "metadata": {},
      "source": [
        "Let's apply it to our examples above (namely, the image with *shifted*\nrange to lower the brightness and *narrowed range* to increase the contrast)\nand display them with the standard 0\u2013255 range:\n\n\n"
      ]
    },
    {
      "cell_type": "code",
      "execution_count": null,
      "metadata": {
        "collapsed": false
      },
      "outputs": [],
      "source": [
        "shifted = rescale(blobs, minval=blobs.min()+shift, maxval=blobs.max()+shift)\nnarrow_range = rescale(blobs, minval=100, maxval=150)\n\nshow_image_histogram(shifted, title=\"Shifted 100 and Rescaled\", vmin=0, vmax=255)\nshow_image_histogram(narrow_range, title=\"Narrow range (100\u2013150) and Rescaled\", vmin=0, vmax=255)"
      ]
    }
  ],
  "metadata": {
    "kernelspec": {
      "display_name": "Python 3",
      "language": "python",
      "name": "python3"
    },
    "language_info": {
      "codemirror_mode": {
        "name": "ipython",
        "version": 3
      },
      "file_extension": ".py",
      "mimetype": "text/x-python",
      "name": "python",
      "nbconvert_exporter": "python",
      "pygments_lexer": "ipython3",
      "version": "3.10.11"
    }
  },
  "nbformat": 4,
  "nbformat_minor": 0
}