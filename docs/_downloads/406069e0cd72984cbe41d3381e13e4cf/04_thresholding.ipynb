{
  "cells": [
    {
      "cell_type": "markdown",
      "metadata": {},
      "source": [
        "\n# Thresholding\n\nTypically, in the histogram of most fluorescence images, the peak appears at\nthe lower end of the distribution. This is because the image usually consists\nmostly of background with values close to zero, while the signal we are interested\nin, which has higher values, is more sparse, resulting in fewer counts.\n\nThis can also be observed in our example image, *blobs.jpeg*.\n"
      ]
    },
    {
      "cell_type": "code",
      "execution_count": null,
      "metadata": {
        "collapsed": false
      },
      "outputs": [],
      "source": [
        "from PIL import Image\nimport numpy as np\nimport matplotlib.pyplot as plt\n\nblobs = Image.open(\"images/blobs.jpeg\")\nblobs = np.array(blobs)\n\nplt.figure(figsize=(8,3.8))\n\nplt.subplot(121)\nplt.title('Image')\nplt.imshow(blobs, cmap='gray')\n\nplt.subplot(122)\nplt.title('Histogram')\nplt.hist(blobs.flatten())\nplt.xlabel('pixel value')\nplt.ylabel('count')\n\nplt.annotate('background', xy=(10, 3000), xytext=(50, 5000),\n    arrowprops=dict(facecolor='black', shrink=0.001, width=1))\n\nplt.annotate('signal', xy=(245, 1000), xytext=(200, 2000),\n    arrowprops=dict(facecolor='black', shrink=0.001, width=1))\n\nplt.annotate('???', xy=(122, 1000), xytext=(122, 1000))\n\nplt.show()"
      ]
    },
    {
      "cell_type": "markdown",
      "metadata": {},
      "source": [
        "From the distribution above, we can see that the value on the left\nrepresents the background, and the value on the right represents the signal.\nBut what about the values in between?\n\nIf we want to classify the pixels into background and signal (this\nprocess is called segmentation), one way is to determine the cutoff value\nthat separates the two classes. This is essentially what \"thresholding\" is.\n\nBelow is a simple function to show the thresholding result by visualizing\nthe pixels with values greater than the threshold ``image > threshold``.\n\n\n"
      ]
    },
    {
      "cell_type": "code",
      "execution_count": null,
      "metadata": {
        "collapsed": false
      },
      "outputs": [],
      "source": [
        "def show_threshold(image, threshold, title=''):\n    plt.figure(figsize=(12,3.8))\n\n    plt.suptitle(title)\n\n    plt.subplot(131)\n    plt.title('Image')\n    plt.imshow(image, cmap='gray')\n\n    plt.subplot(132)\n    plt.title(f\"threshold = {threshold}\")\n    plt.hist(image.flatten())\n    plt.axvline(threshold, color='red')\n    plt.xlim()\n    plt.xlabel('pixel value')\n    plt.ylabel('count')\n    \n    plt.subplot(133)\n    plt.title(f\"Pixels > {threshold}\")\n    plt.imshow(image > threshold, cmap='gray')\n\n    plt.show()"
      ]
    },
    {
      "cell_type": "markdown",
      "metadata": {},
      "source": [
        "For example, let's make an initial guess and set the cutoff value, or\nthreshold, to 122. Right in the middle.\n\n\n"
      ]
    },
    {
      "cell_type": "code",
      "execution_count": null,
      "metadata": {
        "collapsed": false
      },
      "outputs": [],
      "source": [
        "show_threshold(image=blobs, threshold=122)"
      ]
    },
    {
      "cell_type": "markdown",
      "metadata": {},
      "source": [
        "The result (the image on the right), represented as a binary image,\nis essentially a map showing the location of the object we're interested\nin (in this case, signal, which is defined by pixels with value greater\nthan the threshold).\n\nThere are many thresholding algorithms available, so we don't have to\nguess the threshold value each time. This is especially useful when\nthe image data have different value distributions.\n\nHere are a few popular examples.\n\n\n"
      ]
    },
    {
      "cell_type": "code",
      "execution_count": null,
      "metadata": {
        "collapsed": false
      },
      "outputs": [],
      "source": [
        "from skimage.filters import threshold_otsu, threshold_li, threshold_triangle, threshold_isodata\n\nth_otsu = threshold_otsu(blobs)\nth_li = threshold_li(blobs)\nth_tri = threshold_triangle(blobs)\nth_iso = threshold_isodata(blobs)\n\nfor th_algorithm,th_value in {'otsu': th_otsu,\n                              'li': th_li,\n                              'triangle': th_tri,\n                              'isodata': th_iso}.items():\n\n    show_threshold(image=blobs, threshold=th_value, title=f\"Threshold {th_algorithm}\")"
      ]
    },
    {
      "cell_type": "markdown",
      "metadata": {},
      "source": [
        "Different algorithms produce different results, so it's best to\nexperiment with various options to find the best fit for your purpose.\n"
      ]
    }
  ],
  "metadata": {
    "kernelspec": {
      "display_name": "Python 3",
      "language": "python",
      "name": "python3"
    },
    "language_info": {
      "codemirror_mode": {
        "name": "ipython",
        "version": 3
      },
      "file_extension": ".py",
      "mimetype": "text/x-python",
      "name": "python",
      "nbconvert_exporter": "python",
      "pygments_lexer": "ipython3",
      "version": "3.10.11"
    }
  },
  "nbformat": 4,
  "nbformat_minor": 0
}