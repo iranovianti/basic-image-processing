{
  "cells": [
    {
      "cell_type": "markdown",
      "metadata": {},
      "source": [
        "\n# .. _binary-image:\nBinary Image\n============\n\nPreviously, in `thresholding` topic, we learned that defining a threshold value\ncan help identify the signal in an image. The result of this can be represented by a binary image.\n\nYou can think of a binary image as a map showing where the objects of interest are located.\nPixels belonging to the signal become ``True`` (or 1), and pixels belonging to the background become ``False`` (or 0).\n\nLet's create a binary image from our example `blobs.jpeg` by applying Otsu's thresholding method:\n"
      ]
    },
    {
      "cell_type": "code",
      "execution_count": null,
      "metadata": {
        "collapsed": false
      },
      "outputs": [],
      "source": [
        "from PIL import Image\nimport numpy as np\nimport matplotlib.pyplot as plt\n\nfrom skimage.filters import threshold_otsu\n\nblobs = Image.open(\"images/blobs.jpeg\")\nblobs = np.array(blobs)\n\nth_otsu = threshold_otsu(blobs)\nbin_image = blobs > th_otsu\n\nplt.figure()\n\nplt.subplot(121)\nplt.title('Image')\nplt.imshow(blobs, cmap='gray')\n\nplt.subplot(122)\nplt.title('Binary image (mask)')\nplt.imshow(bin_image, cmap='gray')\n\nplt.tight_layout()\nplt.show()"
      ]
    },
    {
      "cell_type": "markdown",
      "metadata": {},
      "source": [
        "It's called \"binary\" because it contains only two values \u2014 (1 and 0)\nor (``True`` and ``False``) \u2014 corresponding to the pixels we want\n(shown in white) and the pixels that we don't want (shown in black),\nrespectively.\n\n\n"
      ]
    },
    {
      "cell_type": "code",
      "execution_count": null,
      "metadata": {
        "collapsed": false
      },
      "outputs": [],
      "source": [
        "print(f'unique values of original image: {np.unique(blobs)}')\nprint(f'unique values of binary image: {np.unique(bin_image)}')"
      ]
    },
    {
      "cell_type": "markdown",
      "metadata": {},
      "source": [
        "The ``bin_image`` image above maps the location of signals, which is defined\nby pixels with a value greater than the threshold ``blobs > th_otsu``.\n\nBut we can make a binary image of any condition(s) that we want.\nFor example, we can make binary images of:\n\n- Background, i.e. pixels that are lower than the threshold with ``image < th``.\n- Pixels with maximum intensity with ``image == max(image)``\n- Pixels with values in certain range (value 1 < image < value 2), can be defined as ``(image > val_1) & (image < val_2)``\n\n\n"
      ]
    },
    {
      "cell_type": "code",
      "execution_count": null,
      "metadata": {
        "collapsed": false
      },
      "outputs": [],
      "source": [
        "# pixels lower than threshold\nbackground = blobs < th_otsu\n\n# pixels with maximum intensity\nmax_value = blobs == blobs.max()\n\n# pixels with values in ceratin range\nedges = (blobs > 50) & (blobs < 200)\n\nplt.figure(figsize=(12,4.5))\n\nplt.subplot(131)\nplt.title(\"Background (image < th)\")\nplt.imshow(background, cmap='gray')\n\nplt.subplot(132)\nplt.title(\"Max intensity (image == max(image))\")\nplt.imshow(max_value, cmap='gray')\n\nplt.subplot(133)\nplt.title(\"Edges (50 < image < 200)\")\nplt.imshow(edges, cmap='gray')\n\nplt.tight_layout()\nplt.show()"
      ]
    }
  ],
  "metadata": {
    "kernelspec": {
      "display_name": "Python 3",
      "language": "python",
      "name": "python3"
    },
    "language_info": {
      "codemirror_mode": {
        "name": "ipython",
        "version": 3
      },
      "file_extension": ".py",
      "mimetype": "text/x-python",
      "name": "python",
      "nbconvert_exporter": "python",
      "pygments_lexer": "ipython3",
      "version": "3.10.11"
    }
  },
  "nbformat": 4,
  "nbformat_minor": 0
}