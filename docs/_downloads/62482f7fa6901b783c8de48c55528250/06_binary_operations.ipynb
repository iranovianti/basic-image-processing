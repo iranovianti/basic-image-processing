{
  "cells": [
    {
      "cell_type": "markdown",
      "metadata": {},
      "source": [
        "\n# Binary Image Operations\n\nIn this section, we will learn some basic operations that are usually done on a binary image, which\nI think are especially helpful for processing fluorescence images.\n\nTo demonstrate the concept, we will use an 8x8 binary image.\n"
      ]
    },
    {
      "cell_type": "code",
      "execution_count": null,
      "metadata": {
        "collapsed": false
      },
      "outputs": [],
      "source": [
        "import numpy as np\nimport matplotlib.pyplot as plt\nimport matplotlib.patheffects as path_effects\nfrom skimage.morphology import binary_erosion, binary_dilation, disk\n\nbinary_image = np.array([[0, 0, 0, 0, 0, 0, 0, 0],\n                         [0, 0, 0, 1, 1, 0, 0, 0],\n                         [0, 0, 1, 1, 1, 1, 0, 0],\n                         [0, 1, 1, 1, 1, 1, 1, 0],\n                         [0, 1, 1, 1, 1, 1, 1, 0],\n                         [0, 0, 1, 1, 1, 1, 0, 0],\n                         [0, 0, 0, 1, 1, 0, 0, 0],\n                         [0, 0, 0, 0, 0, 0, 0, 0]])"
      ]
    },
    {
      "cell_type": "markdown",
      "metadata": {},
      "source": [
        "First, let's create a function that displays the image which has an\noption that lets you put a pixel value on top of each pixel.\n\n\n"
      ]
    },
    {
      "cell_type": "code",
      "execution_count": null,
      "metadata": {
        "collapsed": false
      },
      "outputs": [],
      "source": [
        "def display_image(ax, img, title, show_value=False):\n    ax.imshow(img, cmap='gray', vmin=0, vmax=1)\n    ax.set_title(title)\n    ax.axis(\"off\")\n\n    if show_value:\n        for row in range(img.shape[0]):\n            for col in range(img.shape[1]):\n                text = ax.text(col, row, int(img[row, col]), ha='center', va='center',\n                               fontsize=10, color='black', fontweight='bold')\n                text.set_path_effects([path_effects.Stroke(linewidth=2, foreground='white'),\n                                       path_effects.Normal()])\n\nfig, axes = plt.subplots(1, 2, figsize=(6, 3))\ndisplay_image(axes[0], binary_image, \"Binary Image\")\ndisplay_image(axes[1], binary_image, \"with Pixel Values\", show_value=True)\nplt.tight_layout()\nplt.show()"
      ]
    },
    {
      "cell_type": "markdown",
      "metadata": {},
      "source": [
        "## Morphological Operations\nMorphological operations are used to change the shape (or morphology) of a binary object.\nThe most common ones are [erosion](https://en.wikipedia.org/wiki/Erosion_(morphology)) and [dilation](https://en.wikipedia.org/wiki/Dilation_(morphology)).\n\nAs the name suggests, **erosion** erode a binary object by removing pixels from its outer boundary.\nConversely, **dilation** dilates the object by adding pixels to its outer area.\n\n\n"
      ]
    },
    {
      "cell_type": "code",
      "execution_count": null,
      "metadata": {
        "collapsed": false
      },
      "outputs": [],
      "source": [
        "dilated = binary_dilation(binary_image)\neroded = binary_erosion(binary_image)\n\n# Display original, dilated, and eroded images side by side\nfig, axes = plt.subplots(1, 3, figsize=(9, 3))\ndisplay_image(axes[0], binary_image, \"Original Image\", show_value=True)\ndisplay_image(axes[1], dilated, \"Dilated\", show_value=True)\ndisplay_image(axes[2], eroded, \"Eroded\", show_value=True)\nplt.tight_layout()\nplt.show()"
      ]
    },
    {
      "cell_type": "markdown",
      "metadata": {},
      "source": [
        "The above operations were done using a single pixel, which means they used a matrix of size 1 (`[[1]]`).\nThis matrix used for morphological operations is also called a \"structuring element\".\nWe can also use a structuring element of a different size, such as a 3\u00d73 matrix, for example.\n\n\n"
      ]
    },
    {
      "cell_type": "code",
      "execution_count": null,
      "metadata": {
        "collapsed": false
      },
      "outputs": [],
      "source": [
        "matrix_3x3 = np.ones((3,3))\nprint(matrix_3x3)"
      ]
    },
    {
      "cell_type": "markdown",
      "metadata": {},
      "source": [
        "Now, let's apply erosion using this **3\u00d73 structuring element** and\ncompare the results.\n\n\n"
      ]
    },
    {
      "cell_type": "code",
      "execution_count": null,
      "metadata": {
        "collapsed": false
      },
      "outputs": [],
      "source": [
        "eroded_3x3 = binary_erosion(binary_image, matrix_3x3)\n\n# Compare default erosion (1x1) vs erosion with (3x3) structuring element\nfig, axes = plt.subplots(1, 3, figsize=(9, 3))\ndisplay_image(axes[0], binary_image, \"Original Image\", show_value=True)\ndisplay_image(axes[1], eroded, \"Eroded (1\u00d71)\", show_value=True)\ndisplay_image(axes[2], eroded_3x3, \"Eroded (3\u00d73)\", show_value=True)\nplt.tight_layout()\nplt.show()"
      ]
    },
    {
      "cell_type": "markdown",
      "metadata": {},
      "source": [
        "We can also use structuring element of different shapes\n\n\n"
      ]
    },
    {
      "cell_type": "code",
      "execution_count": null,
      "metadata": {
        "collapsed": false
      },
      "outputs": [],
      "source": [
        "square_3 = np.ones((3,3))  # Square (3x3)\nsquare_5 = np.ones((5,5))  # Square (5x5)\ndisk_1 = disk(1)  # Disk with radius 1\ndisk_2 = disk(2)  # Disk with radius 2\n\n# Display structuring elements\nfig, axes = plt.subplots(1, 4, figsize=(8,2))\ndisplay_image(axes[0], square_3, \"Square (3\u00d73)\", show_value=True)\ndisplay_image(axes[1], square_5, \"Square (5\u00d75)\", show_value=True)\ndisplay_image(axes[2], disk_1, \"Disk (r=1)\", show_value=True)\ndisplay_image(axes[3], disk_2, \"Disk (r=2)\", show_value=True)\nplt.tight_layout()\nplt.show()"
      ]
    },
    {
      "cell_type": "markdown",
      "metadata": {},
      "source": [
        "Let's apply erosion on the binary image of our blobs image.\n\n\n"
      ]
    },
    {
      "cell_type": "code",
      "execution_count": null,
      "metadata": {
        "collapsed": false
      },
      "outputs": [],
      "source": [
        "from PIL import Image\n\n# Load the blobs image\nblob_path = \"images/blobs.jpeg\"\nblobs = Image.open(blob_path)\nblobs = np.array(blobs)\n\n# Convert grayscale image to binary using thresholding\n# The threshold value is arbitrary (but not really, can you guess why?)\nblobs_bin = blobs > 180\n\n# Apply erosion with square structuring elements (3x3, 5x5, 7x7, 9x9)\n\nfig, axes = plt.subplots(1, 5, figsize=(15,3))\nplt.suptitle(\"Erosion with Square structuring element\")\ndisplay_image(axes[0], blobs_bin, \"Binary Image\")\nfor i, size in enumerate([3, 5, 7, 9]):\n    eroded_img = binary_erosion(blobs_bin, np.ones((size, size)))\n    display_image(axes[i+1], eroded_img, f\"Square ({size}\u00d7{size})\")\nplt.tight_layout()\nplt.show()\n\n# Apply erosion with disk structuring elements (r=1, 2, 3, 4)\n\nfig, axes = plt.subplots(1, 5, figsize=(15,3))\nplt.suptitle(\"Erosion with Disk structuring element\")\ndisplay_image(axes[0], blobs_bin, \"Binary Image\")\nfor i, radius in enumerate([1, 2, 3, 4]):\n    eroded_img = binary_erosion(blobs_bin, disk(radius))  # Apply erosion\n    display_image(axes[i+1], eroded_img, f\"disk (r={radius})\")\nplt.tight_layout()\nplt.show()"
      ]
    },
    {
      "cell_type": "markdown",
      "metadata": {},
      "source": [
        ".. hint::\n  Can you think of any useful applications of erosion, dilation, or the combination of both?\n\n\n.. seealso::\n\n  - [Opening](https://en.wikipedia.org/wiki/Opening_(morphology)): erosion followed by dilation.\n  - [Closing](https://en.wikipedia.org/wiki/Closing_(morphology)): dilation followed by erosion.\n\n\n"
      ]
    },
    {
      "cell_type": "markdown",
      "metadata": {},
      "source": [
        "## Logical Operations\nYou may have heard about logical operations like **OR** and **AND**:\n\n- **True AND False** results in **False**.\n- **True OR False** results in **True**.\n\nSince binary images contain only binary values (0 and 1), we can apply these logical operations to them.\n\n\n"
      ]
    },
    {
      "cell_type": "code",
      "execution_count": null,
      "metadata": {
        "collapsed": false
      },
      "outputs": [],
      "source": [
        "# Convert the binary image to boolean\nbinary_image = binary_image.astype(bool)\n\n# Show different types of logical operations on the binary image\nfig, axes = plt.subplots(1, 6, figsize=(18, 3))\ndisplay_image(axes[0], binary_image, \"Binary Image (A)\")\ndisplay_image(axes[1], eroded, \"Eroded (B)\")\ndisplay_image(axes[2], binary_image | eroded, \"A | B (OR)\")\ndisplay_image(axes[3], binary_image ^ eroded, \"A ^ B (XOR)\")\ndisplay_image(axes[4], binary_image & eroded, \"A & B (AND)\")\ndisplay_image(axes[5], ~binary_image, \"~A (NOT)\")\nplt.tight_layout()\nplt.show()"
      ]
    },
    {
      "cell_type": "markdown",
      "metadata": {},
      "source": [
        "So essentially, logical operations on binary images work like this:\n\n- **OR (`|`)** merges both binary images.\n- **XOR (`^`)** keeps only the non-overlapping areas.\n- **AND (`&`)** keeps only the overlapping regions.\n- **NOT (`~`)** inverts the image.\n\n<div class=\"alert alert-info\"><h4>Note</h4><p>There are different ways to perform logical operations on a binary image.\n  The operators we used so far (`|`, `^`, `&`, `~`) are called **bitwise operators**.\n  These work correctly for boolean values (`True`, `False`).\n  When using integers (`0`, `1`), the result may not be as expected.\n  In such cases, it is better to use [numpy.logical](https://numpy.org/doc/2.1/reference/routines.logic.html#logical-operations) operations.</p></div>\n\n\n"
      ]
    },
    {
      "cell_type": "code",
      "execution_count": null,
      "metadata": {
        "collapsed": false
      },
      "outputs": [],
      "source": [
        "print(~np.array([False, True, True, False]))\nprint(~np.array([0, 1, 1, 0]))\nprint(np.logical_not(np.array([0, 1, 1, 0])))"
      ]
    },
    {
      "cell_type": "markdown",
      "metadata": {},
      "source": [
        "Let's apply logical operations to the binary image of the blobs and its eroded version.\n\n\n"
      ]
    },
    {
      "cell_type": "code",
      "execution_count": null,
      "metadata": {
        "collapsed": false
      },
      "outputs": [],
      "source": [
        "blobs_eroded = binary_erosion(blobs_bin, disk(1))\n\nfig, axes = plt.subplots(1, 6, figsize=(18, 3))\ndisplay_image(axes[0], blobs_bin, \"Binary Image (A)\")\ndisplay_image(axes[1], blobs_eroded, \"Eroded (B)\")\ndisplay_image(axes[2], blobs_bin | blobs_eroded, \"A | B (OR)\")\ndisplay_image(axes[3], blobs_bin ^ blobs_eroded, \"A ^ B (XOR)\")\ndisplay_image(axes[4], blobs_bin & blobs_eroded, \"A & B (AND)\")\ndisplay_image(axes[5], ~blobs_bin, \"~A (NOT)\")\nplt.tight_layout()\nplt.show()"
      ]
    },
    {
      "cell_type": "markdown",
      "metadata": {},
      "source": [
        "We can see that applying **erosion** followed by the **XOR** operation gives us the boundary of the object.\n\n.. hint::\n  Can you think of any combination of morphological operations and logical operations that might be useful?\n\n.. seealso::\n\n  - **Subtract (A - B)**: The name explains itself, and is similar to **XOR (A ^ B)** when A >= B.\n  - **Add (A + B)**: Equivalent to **OR (A | B)**.\n\n"
      ]
    }
  ],
  "metadata": {
    "kernelspec": {
      "display_name": "Python 3",
      "language": "python",
      "name": "python3"
    },
    "language_info": {
      "codemirror_mode": {
        "name": "ipython",
        "version": 3
      },
      "file_extension": ".py",
      "mimetype": "text/x-python",
      "name": "python",
      "nbconvert_exporter": "python",
      "pygments_lexer": "ipython3",
      "version": "3.10.11"
    }
  },
  "nbformat": 4,
  "nbformat_minor": 0
}