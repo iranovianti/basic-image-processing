{
  "cells": [
    {
      "cell_type": "markdown",
      "metadata": {},
      "source": [
        "\n# .. _single-channel-image:\nSingle-Channel Image\n====================\n\nIn fluorescence imaging, we work with single-channel images. A single channel image simply\nmeans that each pixel has a single intensity value. In fluorescence images, each value represents\nhow much light (or fluorescence) was detected at that point. [This website](https://bioimagebook.github.io/chapters/3-fluorescence/1-formation_overview/formation_overview.html)\ngives a very good simple explanation on how the light detected is transformed into pixels.\n\n# Grayscale\nA single channel image is also often referred to as a grayscale image.\nA grayscale image simply maps the intensity values to shades of gray\u2014from\nblack (0 intensity) to white (maximum intensity).\n\nAs an example, we will use this 100 \u00d7 100 pixel image, `blobs.jpeg`,\nwhich shows, well, blobs. This image actually shows a magnified view of\nlipid droplets in HeLa cells that I extracted from\n[this image](https://biotium.com/wp-content/uploads/2017/08/LipidSpot-610-NucSpot-470-fix-perm-detail.gif).\n"
      ]
    },
    {
      "cell_type": "code",
      "execution_count": null,
      "metadata": {
        "collapsed": false
      },
      "outputs": [],
      "source": [
        "from PIL import Image\nimport numpy as np\nimport matplotlib.pyplot as plt\n\n# Open the image and convert it to a NumPy array\nblobs = Image.open(\"images/blobs.jpeg\")\nblobs = np.array(blobs)\n\nplt.figure()\nplt.imshow(blobs, cmap='gray')\nplt.colorbar()  # Add a color scale bar to see the intensity range\nplt.title(\"Blobs (Grayscale)\")\nplt.show()"
      ]
    },
    {
      "cell_type": "markdown",
      "metadata": {},
      "source": [
        "In this grayscale representation, every pixel's value is mapped onto\na scale from black to white. Black pixels have the lowest intensity,\nand white pixels have the highest intensity. Intermediate values appear\nas different shades of gray.\n\n\n"
      ]
    },
    {
      "cell_type": "markdown",
      "metadata": {},
      "source": [
        "# Other Representations of Single-Channel Images\nWe can also replace the generally used grayscale gradient with a different\ncolor gradient (colormap).\n\n"
      ]
    },
    {
      "cell_type": "code",
      "execution_count": null,
      "metadata": {
        "collapsed": false
      },
      "outputs": [],
      "source": [
        "plt.figure(figsize=(17,3.8))\n\nplt.subplot(141)\nplt.title(\"Blobs (binary)\")\nplt.imshow(blobs, cmap='binary')\nplt.colorbar()\n\nplt.subplot(142)\nplt.title(\"Blobs (Blues)\")\nplt.imshow(blobs, cmap='Blues')\nplt.colorbar()\n\nplt.subplot(143)\nplt.title(\"Blobs (viridis)\")\nplt.imshow(blobs, cmap='viridis')\nplt.colorbar()\n\nplt.subplot(144)\nplt.title(\"Blobs (jet)\")\nplt.imshow(blobs, cmap='jet')\nplt.colorbar()\n\nplt.tight_layout()\nplt.show()"
      ]
    },
    {
      "cell_type": "markdown",
      "metadata": {},
      "source": [
        "As you can see, not only can we assign different values to different\ncolors, but the general rule that *a larger value means a brighter pixel and a smaller value means a darker pixel*\nalso doesn't really apply to the above image representations.\n\nIn this case, the image can also be thought of as a heatmap. This is\noften the case with scientific images. Because the regular grayscale\ngradient cannot always represent the information we want to\nshow from an image data.\n\nSo it is up to the researchers to pick the appropriate representation.\n\n"
      ]
    }
  ],
  "metadata": {
    "kernelspec": {
      "display_name": "Python 3",
      "language": "python",
      "name": "python3"
    },
    "language_info": {
      "codemirror_mode": {
        "name": "ipython",
        "version": 3
      },
      "file_extension": ".py",
      "mimetype": "text/x-python",
      "name": "python",
      "nbconvert_exporter": "python",
      "pygments_lexer": "ipython3",
      "version": "3.10.11"
    }
  },
  "nbformat": 4,
  "nbformat_minor": 0
}